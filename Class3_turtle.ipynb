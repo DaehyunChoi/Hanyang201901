{
 "cells": [
  {
   "cell_type": "code",
   "execution_count": 1,
   "metadata": {
    "collapsed": true
   },
   "outputs": [],
   "source": [
    "from turtle import *  #turtle 패키지 불러옴\n",
    "# import turtle로 부르면 turtle 명령어 사용 시 turtle.을 붙여줘야 함\n",
    "# 위의 방식으로 부를 때는 turtle.을 찍을 필요 없음"
   ]
  },
  {
   "cell_type": "code",
   "execution_count": 2,
   "metadata": {
    "collapsed": true
   },
   "outputs": [],
   "source": [
    "# 사각형 그리기\n",
    "\n",
    "forward(100)\n",
    "left(90)\n",
    "forward(100)\n",
    "left(90)\n",
    "forward(100)\n",
    "left(90)\n",
    "forward(100)"
   ]
  },
  {
   "cell_type": "code",
   "execution_count": 11,
   "metadata": {
    "collapsed": false
   },
   "outputs": [],
   "source": [
    "#반복문 사용\n",
    "for i in range(500): \n",
    "    forward(i)    \n",
    "    left(91)"
   ]
  },
  {
   "cell_type": "code",
   "execution_count": 13,
   "metadata": {
    "collapsed": false
   },
   "outputs": [],
   "source": [
    "#조건문 추가\n",
    "for i in range(500):\n",
    "    forward(i)\n",
    "    if i % 2 ==0:\n",
    "        left(91)"
   ]
  },
  {
   "cell_type": "code",
   "execution_count": 3,
   "metadata": {
    "collapsed": false
   },
   "outputs": [],
   "source": [
    "# 랜덤 추가\n",
    "from random import randint\n",
    "for i in range(500):\n",
    "    forward(i)\n",
    "    if i%2==0:\n",
    "        n= randint(-5,10)\n",
    "        left(91+n)"
   ]
  },
  {
   "cell_type": "code",
   "execution_count": null,
   "metadata": {
    "collapsed": true
   },
   "outputs": [],
   "source": []
  }
 ],
 "metadata": {
  "anaconda-cloud": {},
  "kernelspec": {
   "display_name": "Python [conda root]",
   "language": "python",
   "name": "conda-root-py"
  },
  "language_info": {
   "codemirror_mode": {
    "name": "ipython",
    "version": 3
   },
   "file_extension": ".py",
   "mimetype": "text/x-python",
   "name": "python",
   "nbconvert_exporter": "python",
   "pygments_lexer": "ipython3",
   "version": "3.5.2"
  }
 },
 "nbformat": 4,
 "nbformat_minor": 1
}
